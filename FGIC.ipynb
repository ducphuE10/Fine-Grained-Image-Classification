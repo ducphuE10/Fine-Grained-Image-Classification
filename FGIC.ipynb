{
  "cells": [
    {
      "cell_type": "code",
      "execution_count": 1,
      "metadata": {
        "id": "0VGsCO2U_BXD"
      },
      "outputs": [],
      "source": [
        "url = 'https://www.robots.ox.ac.uk/~vgg/data/fgvc-aircraft/archives/fgvc-aircraft-2013b.tar.gz'"
      ]
    },
    {
      "cell_type": "code",
      "execution_count": null,
      "metadata": {
        "id": "YYMPwkh0BQEF"
      },
      "outputs": [],
      "source": [
        "# from google.colab import drive\n",
        "# drive.mount('/content/drive')"
      ]
    },
    {
      "cell_type": "code",
      "execution_count": 2,
      "metadata": {
        "colab": {
          "base_uri": "https://localhost:8080/"
        },
        "id": "_NFAQ9o3BQrn",
        "outputId": "72c5623c-1b3e-4dfe-8c43-e0b978228982"
      },
      "outputs": [
        {
          "output_type": "stream",
          "name": "stdout",
          "text": [
            "--2022-06-12 10:04:55--  https://www.robots.ox.ac.uk/~vgg/data/fgvc-aircraft/archives/fgvc-aircraft-2013b.tar.gz\n",
            "Resolving www.robots.ox.ac.uk (www.robots.ox.ac.uk)... 129.67.94.2\n",
            "Connecting to www.robots.ox.ac.uk (www.robots.ox.ac.uk)|129.67.94.2|:443... connected.\n",
            "HTTP request sent, awaiting response... 200 OK\n",
            "Length: 2753340328 (2.6G) [application/x-gzip]\n",
            "Saving to: ‘fgvc-aircraft-2013b.tar.gz’\n",
            "\n",
            "fgvc-aircraft-2013b 100%[===================>]   2.56G  36.1MB/s    in 74s     \n",
            "\n",
            "2022-06-12 10:06:10 (35.3 MB/s) - ‘fgvc-aircraft-2013b.tar.gz’ saved [2753340328/2753340328]\n",
            "\n"
          ]
        }
      ],
      "source": [
        "!wget https://www.robots.ox.ac.uk/~vgg/data/fgvc-aircraft/archives/fgvc-aircraft-2013b.tar.gz"
      ]
    },
    {
      "cell_type": "code",
      "execution_count": null,
      "metadata": {
        "id": "_h5YRYoaCXqY"
      },
      "outputs": [],
      "source": [
        "# !mv /content/fgvc-aircraft-2013b.tar.gz drive/MyDrive/fptAI/"
      ]
    },
    {
      "cell_type": "code",
      "execution_count": 3,
      "metadata": {
        "id": "HcfmqL8zEx1h"
      },
      "outputs": [],
      "source": [
        "!tar --gunzip --extract --file /content/fgvc-aircraft-2013b.tar.gz"
      ]
    },
    {
      "cell_type": "markdown",
      "metadata": {
        "id": "kyVlEviFlL_J"
      },
      "source": [
        "### Crop image"
      ]
    },
    {
      "cell_type": "code",
      "execution_count": 4,
      "metadata": {
        "id": "eWZAanFRlRhg"
      },
      "outputs": [],
      "source": [
        "import os\n",
        "os.mkdir('cropped_images')"
      ]
    },
    {
      "cell_type": "code",
      "execution_count": 5,
      "metadata": {
        "id": "C07pJWx1hIHY"
      },
      "outputs": [],
      "source": [
        "\"\"\"data/images_box.txt contains the aircraft bounding boxes, one per image. \n",
        "The bounding box is specified by four numbers: xmin, ymin, xmax and ymax. \n",
        "The top-left pixel of an image has coordinate (1,1).\"\"\"\n",
        "import numpy as np\n",
        "from PIL import Image \n",
        "\n",
        "\n",
        "path_img_folder = '/content/fgvc-aircraft-2013b/data/images/'\n",
        "path_img_box = '/content/fgvc-aircraft-2013b/data/images_box.txt'\n",
        "\n",
        "f = open(path_img_box, \"r\")\n",
        "for img_box in f.readlines():\n",
        "  img_name = img_box.split()[0]\n",
        "  xmin, ymin, xmax, ymax = [int(coor) for coor in img_box.split()[1:]]\n",
        "  path_img = path_img_folder+img_name+'.jpg'\n",
        "  \n",
        "  img = Image.open(path_img)\n",
        "  img = img.crop((xmin,ymin,xmax,ymax))\n",
        "\n",
        "  img.save('cropped_images/' +img_name + '.jpg')"
      ]
    },
    {
      "cell_type": "markdown",
      "metadata": {
        "id": "cjIkvzI0oKH9"
      },
      "source": [
        "### Dataset"
      ]
    },
    {
      "cell_type": "code",
      "execution_count": 14,
      "metadata": {
        "id": "ylgJgcDIskoW"
      },
      "outputs": [],
      "source": [
        "from torch.utils.data import Dataset,DataLoader, random_split, sampler\n",
        "import torch\n",
        "import torch.nn as nn\n",
        "import torch.optim as optim\n",
        "import os\n",
        "import matplotlib.pyplot as plt\n",
        "import torchvision\n",
        "from torchvision import models, datasets\n",
        "import torch.nn.functional as F\n",
        "from torch.optim.lr_scheduler import ReduceLROnPlateau"
      ]
    },
    {
      "cell_type": "code",
      "execution_count": 7,
      "metadata": {
        "colab": {
          "base_uri": "https://localhost:8080/"
        },
        "id": "PHVMnL3V5oAc",
        "outputId": "3d9a71e5-f38d-433f-b562-c31b817f2367"
      },
      "outputs": [
        {
          "output_type": "stream",
          "name": "stdout",
          "text": [
            "{'707-320': 0, '727-200': 1, '737-200': 2, '737-300': 3, '737-400': 4, '737-500': 5, '737-600': 6, '737-700': 7, '737-800': 8, '737-900': 9, '747-100': 10, '747-200': 11, '747-300': 12, '747-400': 13, '757-200': 14, '757-300': 15, '767-200': 16, '767-300': 17, '767-400': 18, '777-200': 19, '777-300': 20, 'A300B4': 21, 'A310': 22, 'A318': 23, 'A319': 24, 'A320': 25, 'A321': 26, 'A330-200': 27, 'A330-300': 28, 'A340-200': 29, 'A340-300': 30, 'A340-500': 31, 'A340-600': 32, 'A380': 33, 'ATR-42': 34, 'ATR-72': 35, 'An-12': 36, 'BAE-146-200': 37, 'BAE-146-300': 38, 'BAE-125': 39, 'Beechcraft-1900': 40, 'Boeing-717': 41, 'C-130': 42, 'C-47': 43, 'CRJ-200': 44, 'CRJ-700': 45, 'CRJ-900': 46, 'Cessna-172': 47, 'Cessna-208': 48, 'Cessna-525': 49, 'Cessna-560': 50, 'Challenger-600': 51, 'DC-10': 52, 'DC-3': 53, 'DC-6': 54, 'DC-8': 55, 'DC-9-30': 56, 'DH-82': 57, 'DHC-1': 58, 'DHC-6': 59, 'DHC-8-100': 60, 'DHC-8-300': 61, 'DR-400': 62, 'Dornier-328': 63, 'E-170': 64, 'E-190': 65, 'E-195': 66, 'EMB-120': 67, 'ERJ-135': 68, 'ERJ-145': 69, 'Embraer-Legacy-600': 70, 'Eurofighter-Typhoon': 71, 'F-16A/B': 72, 'F/A-18': 73, 'Falcon-2000': 74, 'Falcon-900': 75, 'Fokker-100': 76, 'Fokker-50': 77, 'Fokker-70': 78, 'Global-Express': 79, 'Gulfstream-IV': 80, 'Gulfstream-V': 81, 'Hawk-T1': 82, 'Il-76': 83, 'L-1011': 84, 'MD-11': 85, 'MD-80': 86, 'MD-87': 87, 'MD-90': 88, 'Metroliner': 89, 'Model-B200': 90, 'PA-28': 91, 'SR-20': 92, 'Saab-2000': 93, 'Saab-340': 94, 'Spitfire': 95, 'Tornado': 96, 'Tu-134': 97, 'Tu-154': 98, 'Yak-42': 99}\n",
            "100\n"
          ]
        }
      ],
      "source": [
        "label2index = {}\n",
        "for i,label in enumerate(open('/content/fgvc-aircraft-2013b/data/variants.txt').readlines()):\n",
        "  label2index[label[:-1].replace(' ','-')] = i #cutoff \\n in the end\n",
        "\n",
        "print(label2index)\n",
        "print(len(label2index))\n",
        "\n",
        "class AircraftDataset(Dataset):\n",
        "  def __init__(self, file, root_dir, transform = None):\n",
        "    self.annotations = open(file, \"r\").readlines()\n",
        "    self.root_dir = root_dir\n",
        "    self.transform = transform\n",
        "\n",
        "  def __len__(self):\n",
        "    return len(self.annotations)\n",
        "\n",
        "  def __getitem__(self, index):\n",
        "    obj = self.annotations[index].split()\n",
        "    img_path = self.root_dir + obj[0] + '.jpg'\n",
        "\n",
        "    image = plt.imread(img_path)\n",
        "\n",
        "    y_label = obj[1:]\n",
        "    y_label = '-'.join(y_label)\n",
        "    y_label = torch.tensor(label2index[y_label])\n",
        "\n",
        "    if self.transform:\n",
        "        image = self.transform(image)\n",
        "\n",
        "    return (image, y_label)\n"
      ]
    },
    {
      "cell_type": "code",
      "execution_count": 8,
      "metadata": {
        "id": "JtRFolGOCCo5"
      },
      "outputs": [],
      "source": [
        "root_dir = '/content/cropped_images/'\n",
        "train_path = \"/content/fgvc-aircraft-2013b/data/images_variant_trainval.txt\"\n",
        "test_path = \"/content/fgvc-aircraft-2013b/data/images_variant_test.txt\"\n",
        "\n",
        "# Set device\n",
        "device = torch.device(\"cuda\" if torch.cuda.is_available() else \"cpu\")\n",
        "\n",
        "batch_size = 64\n",
        "image_size = 224"
      ]
    },
    {
      "cell_type": "code",
      "execution_count": 9,
      "metadata": {
        "id": "OZTnG61ICby4"
      },
      "outputs": [],
      "source": [
        "image_transforms = { \n",
        "    'train':torchvision.transforms.Compose([\n",
        "            torchvision.transforms.ToPILImage(),\n",
        "            torchvision.transforms.Resize(size=(224, 224)),\n",
        "            torchvision.transforms.RandomHorizontalFlip(),\n",
        "            torchvision.transforms.RandomGrayscale(0.5),\n",
        "            torchvision.transforms.RandomAutocontrast(),\n",
        "            torchvision.transforms.ToTensor(),\n",
        "            torchvision.transforms.Normalize(mean=(0.485, 0.456, 0.406),\n",
        "                                             std=(0.229, 0.224, 0.225))\n",
        "    ]),\n",
        "    'test':torchvision.transforms.Compose([\n",
        "            torchvision.transforms.ToPILImage(),\n",
        "            torchvision.transforms.Resize(size=(224,224)),\n",
        "            torchvision.transforms.ToTensor(),\n",
        "            torchvision.transforms.Normalize(mean=(0.485, 0.456, 0.406),\n",
        "                                             std=(0.229, 0.224, 0.225))\n",
        "        ])\n",
        "}"
      ]
    },
    {
      "cell_type": "code",
      "execution_count": 10,
      "metadata": {
        "id": "WwJZODMMtCRm"
      },
      "outputs": [],
      "source": [
        "train_dataset = AircraftDataset(file = train_path,root_dir = root_dir, transform = image_transforms['train'])\n",
        "test_dataset = AircraftDataset(file = test_path,root_dir = root_dir, transform = image_transforms['test'])"
      ]
    },
    {
      "cell_type": "code",
      "source": [
        "train_loader = DataLoader(train_dataset, batch_size=batch_size, shuffle=True)\n",
        "test_loader = DataLoader(test_dataset, batch_size=batch_size, shuffle=True)"
      ],
      "metadata": {
        "id": "La0iRqMIarZC"
      },
      "execution_count": 11,
      "outputs": []
    },
    {
      "cell_type": "markdown",
      "metadata": {
        "id": "CJctPTLwuD20"
      },
      "source": [
        "### MODEL"
      ]
    },
    {
      "cell_type": "code",
      "execution_count": 12,
      "metadata": {
        "id": "rY-XnjV_uB60"
      },
      "outputs": [],
      "source": [
        "features = 512\n",
        "fmap_size = 14\n",
        "\n",
        "\n",
        "class BCNN(nn.Module):\n",
        "  def __init__(self, fine_tune=False):\n",
        "    super().__init__()\n",
        "\n",
        "    self.features = models.vgg16(pretrained=True).features\n",
        "    self.features = nn.Sequential(*list(self.features.children())[:-1]).cuda()\n",
        "\n",
        "    for param in self.features.parameters():\n",
        "      param.requires_grad = False\n",
        "\n",
        "    self.fc = nn.Linear(features ** 2, 100)\n",
        "    self.dropout = nn.Dropout(0.5)\n",
        "    \n",
        "    # # Initialize the fc layers.\n",
        "    # nn.init.xavier_normal_(self.fc.weight.data)\n",
        "    \n",
        "    if self.fc.bias is not None:\n",
        "      torch.nn.init.constant_(self.fc.bias.data, val=0)\n",
        "        \n",
        "  def forward(self, x):\n",
        "    ## X: [batch_size, 3, 224, 224]\n",
        "    ## N = batch_size\n",
        "    N = x.size()[0]\n",
        "\n",
        "    ## x : [batch_size, N,  ... , ...]\n",
        "    x = self.features(x)\n",
        "    x = x.view(N, -1 , fmap_size ** 2)\n",
        "    x = self.dropout(x)\n",
        "\n",
        "    # Batch matrix multiplication\n",
        "    x = torch.bmm(x, torch.transpose(x, 1, 2))/ (fmap_size ** 2) \n",
        "\n",
        "    x = x.view(N, features ** 2)\n",
        "    x = torch.sqrt(x+1e-5)\n",
        "    x = F.normalize(x)\n",
        "\n",
        "    x = self.dropout(x)\n",
        "    x = self.fc(x)\n",
        "\n",
        "    return x"
      ]
    },
    {
      "cell_type": "code",
      "execution_count": 13,
      "metadata": {
        "id": "KN4aqZMFKKA4",
        "colab": {
          "base_uri": "https://localhost:8080/",
          "height": 66,
          "referenced_widgets": [
            "ea345cba62b443ec883730ecd40eef11",
            "f761332bb7e244b99877b26724efdfc9",
            "e2f8ed57fb60489d962f85fe11e096aa",
            "4ca016c7299b4d15b5bee908c5ec0666",
            "77c74fe13c5d4f0b88fae4624d142445",
            "80aad9be39194912be873ed8a4bee310",
            "5b03496e5d1a41fd9eb5f66a8f17ad3a",
            "99f5a0f911d64217af84c59d1a69d2ab",
            "1841b60139a0416abe5c39bbfafc1042",
            "334badbed9824f4697d0edeca9293962",
            "19637a1f8bf74552923d364a7f3b9837"
          ]
        },
        "outputId": "4ece9462-7bb8-4c5b-92a1-dedc3632c30d"
      },
      "outputs": [
        {
          "output_type": "stream",
          "name": "stderr",
          "text": [
            "Downloading: \"https://download.pytorch.org/models/vgg16-397923af.pth\" to /root/.cache/torch/hub/checkpoints/vgg16-397923af.pth\n"
          ]
        },
        {
          "output_type": "display_data",
          "data": {
            "text/plain": [
              "  0%|          | 0.00/528M [00:00<?, ?B/s]"
            ],
            "application/vnd.jupyter.widget-view+json": {
              "version_major": 2,
              "version_minor": 0,
              "model_id": "ea345cba62b443ec883730ecd40eef11"
            }
          },
          "metadata": {}
        }
      ],
      "source": [
        "model = BCNN().to('cuda')\n",
        "criterion = nn.CrossEntropyLoss()\n",
        "optimizer = optim.Adam(model.parameters())"
      ]
    },
    {
      "cell_type": "code",
      "execution_count": 16,
      "metadata": {
        "id": "Xx5-xWPWV9jH",
        "colab": {
          "base_uri": "https://localhost:8080/"
        },
        "outputId": "9bb29105-be39-4795-d4f9-f8b8e2635c75"
      },
      "outputs": [
        {
          "output_type": "stream",
          "name": "stdout",
          "text": [
            "\n",
            "Epoch: 0 \tTraining Loss: 4.068 \\Test Loss: 3.564\n",
            "\t\tTraining Accuracy: 24.18%\t Test Accuracy: 40.95%\n",
            "------------------------------------------------------------\n",
            "\n",
            "Epoch: 1 \tTraining Loss: 3.322 \\Test Loss: 3.028\n",
            "\t\tTraining Accuracy: 49.96%\t Test Accuracy: 48.81%\n",
            "------------------------------------------------------------\n",
            "\n",
            "Epoch: 2 \tTraining Loss: 2.831 \\Test Loss: 2.670\n",
            "\t\tTraining Accuracy: 60.13%\t Test Accuracy: 52.03%\n",
            "------------------------------------------------------------\n",
            "\n",
            "Epoch: 3 \tTraining Loss: 2.475 \\Test Loss: 2.402\n",
            "\t\tTraining Accuracy: 65.82%\t Test Accuracy: 55.48%\n",
            "------------------------------------------------------------\n",
            "\n",
            "Epoch: 4 \tTraining Loss: 2.193 \\Test Loss: 2.210\n",
            "\t\tTraining Accuracy: 69.60%\t Test Accuracy: 57.19%\n",
            "------------------------------------------------------------\n",
            "\n",
            "Epoch: 5 \tTraining Loss: 1.972 \\Test Loss: 2.046\n",
            "\t\tTraining Accuracy: 73.51%\t Test Accuracy: 60.61%\n",
            "------------------------------------------------------------\n",
            "\n",
            "Epoch: 6 \tTraining Loss: 1.786 \\Test Loss: 1.923\n",
            "\t\tTraining Accuracy: 76.03%\t Test Accuracy: 61.90%\n",
            "------------------------------------------------------------\n",
            "\n",
            "Epoch: 7 \tTraining Loss: 1.639 \\Test Loss: 1.827\n",
            "\t\tTraining Accuracy: 78.24%\t Test Accuracy: 62.62%\n",
            "------------------------------------------------------------\n",
            "\n",
            "Epoch: 8 \tTraining Loss: 1.510 \\Test Loss: 1.741\n",
            "\t\tTraining Accuracy: 80.32%\t Test Accuracy: 63.94%\n",
            "------------------------------------------------------------\n",
            "\n",
            "Epoch: 9 \tTraining Loss: 1.396 \\Test Loss: 1.668\n",
            "\t\tTraining Accuracy: 82.06%\t Test Accuracy: 64.57%\n",
            "------------------------------------------------------------\n",
            "\n",
            "Epoch: 10 \tTraining Loss: 1.300 \\Test Loss: 1.604\n",
            "\t\tTraining Accuracy: 83.88%\t Test Accuracy: 65.17%\n",
            "------------------------------------------------------------\n",
            "\n",
            "Epoch: 11 \tTraining Loss: 1.211 \\Test Loss: 1.547\n",
            "\t\tTraining Accuracy: 84.88%\t Test Accuracy: 66.55%\n",
            "------------------------------------------------------------\n",
            "\n",
            "Epoch: 12 \tTraining Loss: 1.135 \\Test Loss: 1.507\n",
            "\t\tTraining Accuracy: 86.74%\t Test Accuracy: 66.43%\n",
            "------------------------------------------------------------\n",
            "\n",
            "Epoch: 13 \tTraining Loss: 1.064 \\Test Loss: 1.468\n",
            "\t\tTraining Accuracy: 87.78%\t Test Accuracy: 66.97%\n",
            "------------------------------------------------------------\n",
            "\n",
            "Epoch: 14 \tTraining Loss: 1.006 \\Test Loss: 1.425\n",
            "\t\tTraining Accuracy: 88.44%\t Test Accuracy: 67.27%\n",
            "------------------------------------------------------------\n",
            "\n",
            "Epoch: 15 \tTraining Loss: 0.947 \\Test Loss: 1.395\n",
            "\t\tTraining Accuracy: 89.49%\t Test Accuracy: 68.14%\n",
            "------------------------------------------------------------\n",
            "\n",
            "Epoch: 16 \tTraining Loss: 0.895 \\Test Loss: 1.361\n",
            "\t\tTraining Accuracy: 90.15%\t Test Accuracy: 68.23%\n",
            "------------------------------------------------------------\n",
            "\n",
            "Epoch: 17 \tTraining Loss: 0.846 \\Test Loss: 1.334\n",
            "\t\tTraining Accuracy: 90.97%\t Test Accuracy: 68.47%\n",
            "------------------------------------------------------------\n",
            "\n",
            "Epoch: 18 \tTraining Loss: 0.799 \\Test Loss: 1.311\n",
            "\t\tTraining Accuracy: 92.13%\t Test Accuracy: 68.71%\n",
            "------------------------------------------------------------\n",
            "\n",
            "Epoch: 19 \tTraining Loss: 0.766 \\Test Loss: 1.285\n",
            "\t\tTraining Accuracy: 92.35%\t Test Accuracy: 69.01%\n",
            "------------------------------------------------------------\n",
            "\n",
            "Epoch: 20 \tTraining Loss: 0.719 \\Test Loss: 1.266\n",
            "\t\tTraining Accuracy: 93.24%\t Test Accuracy: 69.34%\n",
            "------------------------------------------------------------\n",
            "\n",
            "Epoch: 21 \tTraining Loss: 0.682 \\Test Loss: 1.245\n",
            "\t\tTraining Accuracy: 93.55%\t Test Accuracy: 69.40%\n",
            "------------------------------------------------------------\n",
            "\n",
            "Epoch: 22 \tTraining Loss: 0.652 \\Test Loss: 1.229\n",
            "\t\tTraining Accuracy: 94.02%\t Test Accuracy: 70.09%\n",
            "------------------------------------------------------------\n",
            "\n",
            "Epoch: 23 \tTraining Loss: 0.624 \\Test Loss: 1.210\n",
            "\t\tTraining Accuracy: 94.35%\t Test Accuracy: 69.55%\n",
            "------------------------------------------------------------\n",
            "\n",
            "Epoch: 24 \tTraining Loss: 0.591 \\Test Loss: 1.197\n",
            "\t\tTraining Accuracy: 94.54%\t Test Accuracy: 69.52%\n",
            "------------------------------------------------------------\n",
            "\n",
            "Epoch: 25 \tTraining Loss: 0.569 \\Test Loss: 1.181\n",
            "\t\tTraining Accuracy: 95.34%\t Test Accuracy: 70.18%\n",
            "------------------------------------------------------------\n",
            "\n",
            "Epoch: 26 \tTraining Loss: 0.549 \\Test Loss: 1.166\n",
            "\t\tTraining Accuracy: 95.55%\t Test Accuracy: 70.96%\n",
            "------------------------------------------------------------\n",
            "\n",
            "Epoch: 27 \tTraining Loss: 0.520 \\Test Loss: 1.157\n",
            "\t\tTraining Accuracy: 96.01%\t Test Accuracy: 69.88%\n",
            "------------------------------------------------------------\n",
            "\n",
            "Epoch: 28 \tTraining Loss: 0.498 \\Test Loss: 1.142\n",
            "\t\tTraining Accuracy: 96.30%\t Test Accuracy: 70.81%\n",
            "------------------------------------------------------------\n",
            "\n",
            "Epoch: 29 \tTraining Loss: 0.472 \\Test Loss: 1.135\n",
            "\t\tTraining Accuracy: 96.48%\t Test Accuracy: 70.57%\n",
            "------------------------------------------------------------\n"
          ]
        }
      ],
      "source": [
        "#Initializing  variables\n",
        "num_epoch = 30\n",
        "\n",
        "lr_scheduling = ReduceLROnPlateau(\n",
        "            optimizer= optimizer,\n",
        "            patience=5,\n",
        "            factor=0.3,\n",
        "            mode=\"max\",\n",
        "            verbose=True\n",
        "        )\n",
        "\n",
        "\n",
        "history = {'train_losses':[],\n",
        "            'test_losses':[],\n",
        "            'train_accs':[],\n",
        "            'test_accs':[]}\n",
        "\n",
        "#Loop starts here\n",
        "for epoch in range(num_epoch):\n",
        "    \n",
        "    train_loss = 0\n",
        "    test_loss = 0\n",
        "\n",
        "    train_acc = 0\n",
        "    test_acc = 0\n",
        "\n",
        "    model.train()\n",
        "    \n",
        "    for batch_idx,(data, label) in enumerate(train_loader):\n",
        "        data, label = data.cuda(), label.cuda()\n",
        "        output = model(data)\n",
        "        \n",
        "        loss = criterion(output, label)\n",
        "        optimizer.zero_grad()\n",
        "        \n",
        "        loss.backward()\n",
        "        optimizer.step()\n",
        "        \n",
        "        train_loss += loss.item() * data.size(0)\n",
        "        _, pred = torch.max(output, dim=1)\n",
        "        correct_tensor = pred.eq(label.data.view_as(pred))\n",
        "        accuracy = torch.mean(correct_tensor.type(torch.FloatTensor))\n",
        "        train_acc += accuracy.item() * data.size(0)\n",
        "        \n",
        "    \n",
        "    with torch.no_grad():\n",
        "        model.eval()\n",
        "        for data, label in test_loader:\n",
        "            data, label = data.cuda(), label.cuda()\n",
        "            output = model(data)\n",
        "            loss = criterion(output, label)\n",
        "            test_loss += loss.item() * data.size(0)\n",
        "            \n",
        "            _, pred = torch.max(output, dim=1)\n",
        "            correct_tensor = pred.eq(label.data.view_as(pred))\n",
        "            accuracy = torch.mean(correct_tensor.type(torch.FloatTensor))\n",
        "            test_acc += accuracy.item() * data.size(0)\n",
        "        \n",
        "    train_loss = train_loss / len(train_loader.dataset)\n",
        "    test_loss = test_loss / len(test_loader.dataset)\n",
        "\n",
        "    train_acc = train_acc / len(train_loader.dataset)\n",
        "    test_acc = test_acc / len(test_loader.dataset)\n",
        "    lr_scheduling.step(test_acc)\n",
        "\n",
        "    history['train_losses'].append(train_loss)\n",
        "    history['test_losses'].append(test_loss)\n",
        "    history['train_accs'].append(train_acc)\n",
        "    history['test_accs'].append(test_acc)\n",
        "\n",
        "\n",
        "    print(f'\\nEpoch: {epoch} \\tTraining Loss: {train_loss:.3f} \\Test Loss: {test_loss:.3f}')\n",
        "    print(f'\\t\\tTraining Accuracy: {100 * train_acc:.2f}%\\t Test Accuracy: {100 * test_acc:.2f}%')\n",
        "    print('------------------------------------------------------------')"
      ]
    },
    {
      "cell_type": "code",
      "source": [
        "import matplotlib.pyplot as plt\n",
        "\n",
        "\n",
        "# create data\n",
        "x = np.arange(num_epoch)\n",
        "train_losses, test_losses, train_accs, test_accs = history['train_losses'], history['test_losses'], history['train_accs'], history['test_accs']\n",
        "\n",
        "\n",
        "# plt.figure(figsize=(100, 6), dpi=90)\n",
        "fig, (ax1, ax2) = plt.subplots(1, 2,figsize=(10,5))\n",
        "fig.suptitle('Loss & Accuracy')\n",
        "\n",
        "ax1.set_title('Loss')\n",
        "ax1.plot(x, train_losses, label = \"train_losses\")\n",
        "ax1.plot(x, test_losses, label = \"test_losses\")\n",
        "ax1.set_xlabel('epoch')\n",
        "ax1.set_ylabel('loss')\n",
        "\n",
        "ax2.set_title('Accuracy')\n",
        "ax2.plot(x, train_accs, label = \"train_accs\")\n",
        "ax2.plot(x, test_accs, label = \"test_accs\")\n",
        "ax2.set_xlabel('epoch')\n",
        "ax2.set_ylabel('accuracy')\n",
        "\n",
        "for var in (train_accs, test_accs):\n",
        "  ax2.annotate('%0.2f' % max(var), xy=(1, max(var)), xytext=(-25, 5), \n",
        "    xycoords=('axes fraction', 'data'), textcoords='offset points')\n",
        "  \n",
        "for var in (train_losses, test_losses):\n",
        "  ax1.annotate('%0.2f' % min(var), xy=(1, min(var)), xytext=(-25, 5), \n",
        "    xycoords=('axes fraction', 'data'), textcoords='offset points')\n",
        "    \n",
        "  \n",
        "ax1.legend()\n",
        "ax2.legend()\n",
        "plt.show()"
      ],
      "metadata": {
        "colab": {
          "base_uri": "https://localhost:8080/",
          "height": 370
        },
        "id": "lDIcwk5bh_U8",
        "outputId": "d40a7959-ef12-4b89-ef87-cb49a71e27f5"
      },
      "execution_count": 37,
      "outputs": [
        {
          "output_type": "display_data",
          "data": {
            "text/plain": [
              "<Figure size 720x360 with 2 Axes>"
            ],
            "image/png": "[encoded data removed]"
          },
          "metadata": {
            "needs_background": "light"
          }
        }
      ]
    },
    {
      "cell_type": "code",
      "source": [
        ""
      ],
      "metadata": {
        "id": "ujuTUmWdwQGC"
      },
      "execution_count": null,
      "outputs": []
    }
  ],
  "metadata": {
    "accelerator": "GPU",
    "colab": {
      "collapsed_sections": [],
      "name": "FGIC.ipynb",
      "provenance": []
    },
    "kernelspec": {
      "display_name": "Python 3",
      "name": "python3"
    },
    "language_info": {
      "name": "python"
    },
    "widgets": {
      "application/vnd.jupyter.widget-state+json": {
        "ea345cba62b443ec883730ecd40eef11": {
          "model_module": "@jupyter-widgets/controls",
          "model_name": "HBoxModel",
          "model_module_version": "1.5.0",
          "state": {
            "_dom_classes": [],
            "_model_module": "@jupyter-widgets/controls",
            "_model_module_version": "1.5.0",
            "_model_name": "HBoxModel",
            "_view_count": null,
            "_view_module": "@jupyter-widgets/controls",
            "_view_module_version": "1.5.0",
            "_view_name": "HBoxView",
            "box_style": "",
            "children": [
              "IPY_MODEL_f761332bb7e244b99877b26724efdfc9",
              "IPY_MODEL_e2f8ed57fb60489d962f85fe11e096aa",
              "IPY_MODEL_4ca016c7299b4d15b5bee908c5ec0666"
            ],
            "layout": "IPY_MODEL_77c74fe13c5d4f0b88fae4624d142445"
          }
        },
        "f761332bb7e244b99877b26724efdfc9": {
          "model_module": "@jupyter-widgets/controls",
          "model_name": "HTMLModel",
          "model_module_version": "1.5.0",
          "state": {
            "_dom_classes": [],
            "_model_module": "@jupyter-widgets/controls",
            "_model_module_version": "1.5.0",
            "_model_name": "HTMLModel",
            "_view_count": null,
            "_view_module": "@jupyter-widgets/controls",
            "_view_module_version": "1.5.0",
            "_view_name": "HTMLView",
            "description": "",
            "description_tooltip": null,
            "layout": "IPY_MODEL_80aad9be39194912be873ed8a4bee310",
            "placeholder": "​",
            "style": "IPY_MODEL_5b03496e5d1a41fd9eb5f66a8f17ad3a",
            "value": "100%"
          }
        },
        "e2f8ed57fb60489d962f85fe11e096aa": {
          "model_module": "@jupyter-widgets/controls",
          "model_name": "FloatProgressModel",
          "model_module_version": "1.5.0",
          "state": {
            "_dom_classes": [],
            "_model_module": "@jupyter-widgets/controls",
            "_model_module_version": "1.5.0",
            "_model_name": "FloatProgressModel",
            "_view_count": null,
            "_view_module": "@jupyter-widgets/controls",
            "_view_module_version": "1.5.0",
            "_view_name": "ProgressView",
            "bar_style": "success",
            "description": "",
            "description_tooltip": null,
            "layout": "IPY_MODEL_99f5a0f911d64217af84c59d1a69d2ab",
            "max": 553433881,
            "min": 0,
            "orientation": "horizontal",
            "style": "IPY_MODEL_1841b60139a0416abe5c39bbfafc1042",
            "value": 553433881
          }
        },
        "4ca016c7299b4d15b5bee908c5ec0666": {
          "model_module": "@jupyter-widgets/controls",
          "model_name": "HTMLModel",
          "model_module_version": "1.5.0",
          "state": {
            "_dom_classes": [],
            "_model_module": "@jupyter-widgets/controls",
            "_model_module_version": "1.5.0",
            "_model_name": "HTMLModel",
            "_view_count": null,
            "_view_module": "@jupyter-widgets/controls",
            "_view_module_version": "1.5.0",
            "_view_name": "HTMLView",
            "description": "",
            "description_tooltip": null,
            "layout": "IPY_MODEL_334badbed9824f4697d0edeca9293962",
            "placeholder": "​",
            "style": "IPY_MODEL_19637a1f8bf74552923d364a7f3b9837",
            "value": " 528M/528M [00:02&lt;00:00, 249MB/s]"
          }
        },
        "77c74fe13c5d4f0b88fae4624d142445": {
          "model_module": "@jupyter-widgets/base",
          "model_name": "LayoutModel",
          "model_module_version": "1.2.0",
          "state": {
            "_model_module": "@jupyter-widgets/base",
            "_model_module_version": "1.2.0",
            "_model_name": "LayoutModel",
            "_view_count": null,
            "_view_module": "@jupyter-widgets/base",
            "_view_module_version": "1.2.0",
            "_view_name": "LayoutView",
            "align_content": null,
            "align_items": null,
            "align_self": null,
            "border": null,
            "bottom": null,
            "display": null,
            "flex": null,
            "flex_flow": null,
            "grid_area": null,
            "grid_auto_columns": null,
            "grid_auto_flow": null,
            "grid_auto_rows": null,
            "grid_column": null,
            "grid_gap": null,
            "grid_row": null,
            "grid_template_areas": null,
            "grid_template_columns": null,
            "grid_template_rows": null,
            "height": null,
            "justify_content": null,
            "justify_items": null,
            "left": null,
            "margin": null,
            "max_height": null,
            "max_width": null,
            "min_height": null,
            "min_width": null,
            "object_fit": null,
            "object_position": null,
            "order": null,
            "overflow": null,
            "overflow_x": null,
            "overflow_y": null,
            "padding": null,
            "right": null,
            "top": null,
            "visibility": null,
            "width": null
          }
        },
        "80aad9be39194912be873ed8a4bee310": {
          "model_module": "@jupyter-widgets/base",
          "model_name": "LayoutModel",
          "model_module_version": "1.2.0",
          "state": {
            "_model_module": "@jupyter-widgets/base",
            "_model_module_version": "1.2.0",
            "_model_name": "LayoutModel",
            "_view_count": null,
            "_view_module": "@jupyter-widgets/base",
            "_view_module_version": "1.2.0",
            "_view_name": "LayoutView",
            "align_content": null,
            "align_items": null,
            "align_self": null,
            "border": null,
            "bottom": null,
            "display": null,
            "flex": null,
            "flex_flow": null,
            "grid_area": null,
            "grid_auto_columns": null,
            "grid_auto_flow": null,
            "grid_auto_rows": null,
            "grid_column": null,
            "grid_gap": null,
            "grid_row": null,
            "grid_template_areas": null,
            "grid_template_columns": null,
            "grid_template_rows": null,
            "height": null,
            "justify_content": null,
            "justify_items": null,
            "left": null,
            "margin": null,
            "max_height": null,
            "max_width": null,
            "min_height": null,
            "min_width": null,
            "object_fit": null,
            "object_position": null,
            "order": null,
            "overflow": null,
            "overflow_x": null,
            "overflow_y": null,
            "padding": null,
            "right": null,
            "top": null,
            "visibility": null,
            "width": null
          }
        },
        "5b03496e5d1a41fd9eb5f66a8f17ad3a": {
          "model_module": "@jupyter-widgets/controls",
          "model_name": "DescriptionStyleModel",
          "model_module_version": "1.5.0",
          "state": {
            "_model_module": "@jupyter-widgets/controls",
            "_model_module_version": "1.5.0",
            "_model_name": "DescriptionStyleModel",
            "_view_count": null,
            "_view_module": "@jupyter-widgets/base",
            "_view_module_version": "1.2.0",
            "_view_name": "StyleView",
            "description_width": ""
          }
        },
        "99f5a0f911d64217af84c59d1a69d2ab": {
          "model_module": "@jupyter-widgets/base",
          "model_name": "LayoutModel",
          "model_module_version": "1.2.0",
          "state": {
            "_model_module": "@jupyter-widgets/base",
            "_model_module_version": "1.2.0",
            "_model_name": "LayoutModel",
            "_view_count": null,
            "_view_module": "@jupyter-widgets/base",
            "_view_module_version": "1.2.0",
            "_view_name": "LayoutView",
            "align_content": null,
            "align_items": null,
            "align_self": null,
            "border": null,
            "bottom": null,
            "display": null,
            "flex": null,
            "flex_flow": null,
            "grid_area": null,
            "grid_auto_columns": null,
            "grid_auto_flow": null,
            "grid_auto_rows": null,
            "grid_column": null,
            "grid_gap": null,
            "grid_row": null,
            "grid_template_areas": null,
            "grid_template_columns": null,
            "grid_template_rows": null,
            "height": null,
            "justify_content": null,
            "justify_items": null,
            "left": null,
            "margin": null,
            "max_height": null,
            "max_width": null,
            "min_height": null,
            "min_width": null,
            "object_fit": null,
            "object_position": null,
            "order": null,
            "overflow": null,
            "overflow_x": null,
            "overflow_y": null,
            "padding": null,
            "right": null,
            "top": null,
            "visibility": null,
            "width": null
          }
        },
        "1841b60139a0416abe5c39bbfafc1042": {
          "model_module": "@jupyter-widgets/controls",
          "model_name": "ProgressStyleModel",
          "model_module_version": "1.5.0",
          "state": {
            "_model_module": "@jupyter-widgets/controls",
            "_model_module_version": "1.5.0",
            "_model_name": "ProgressStyleModel",
            "_view_count": null,
            "_view_module": "@jupyter-widgets/base",
            "_view_module_version": "1.2.0",
            "_view_name": "StyleView",
            "bar_color": null,
            "description_width": ""
          }
        },
        "334badbed9824f4697d0edeca9293962": {
          "model_module": "@jupyter-widgets/base",
          "model_name": "LayoutModel",
          "model_module_version": "1.2.0",
          "state": {
            "_model_module": "@jupyter-widgets/base",
            "_model_module_version": "1.2.0",
            "_model_name": "LayoutModel",
            "_view_count": null,
            "_view_module": "@jupyter-widgets/base",
            "_view_module_version": "1.2.0",
            "_view_name": "LayoutView",
            "align_content": null,
            "align_items": null,
            "align_self": null,
            "border": null,
            "bottom": null,
            "display": null,
            "flex": null,
            "flex_flow": null,
            "grid_area": null,
            "grid_auto_columns": null,
            "grid_auto_flow": null,
            "grid_auto_rows": null,
            "grid_column": null,
            "grid_gap": null,
            "grid_row": null,
            "grid_template_areas": null,
            "grid_template_columns": null,
            "grid_template_rows": null,
            "height": null,
            "justify_content": null,
            "justify_items": null,
            "left": null,
            "margin": null,
            "max_height": null,
            "max_width": null,
            "min_height": null,
            "min_width": null,
            "object_fit": null,
            "object_position": null,
            "order": null,
            "overflow": null,
            "overflow_x": null,
            "overflow_y": null,
            "padding": null,
            "right": null,
            "top": null,
            "visibility": null,
            "width": null
          }
        },
        "19637a1f8bf74552923d364a7f3b9837": {
          "model_module": "@jupyter-widgets/controls",
          "model_name": "DescriptionStyleModel",
          "model_module_version": "1.5.0",
          "state": {
            "_model_module": "@jupyter-widgets/controls",
            "_model_module_version": "1.5.0",
            "_model_name": "DescriptionStyleModel",
            "_view_count": null,
            "_view_module": "@jupyter-widgets/base",
            "_view_module_version": "1.2.0",
            "_view_name": "StyleView",
            "description_width": ""
          }
        }
      }
    }
  },
  "nbformat": 4,
  "nbformat_minor": 0
}